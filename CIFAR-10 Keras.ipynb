{
  "nbformat": 4,
  "nbformat_minor": 0,
  "metadata": {
    "colab": {
      "name": "CIFAR_keras (1).ipynb",
      "provenance": [],
      "collapsed_sections": []
    },
    "kernelspec": {
      "display_name": "Python 3",
      "language": "python",
      "name": "python3"
    },
    "accelerator": "GPU"
  },
  "cells": [
    {
      "cell_type": "code",
      "metadata": {
        "colab_type": "code",
        "id": "EjSGcBT1y4D8",
        "outputId": "58f07502-e711-493e-c019-d7c3a80f9650",
        "colab": {
          "base_uri": "https://localhost:8080/",
          "height": 34
        }
      },
      "source": [
        "from keras.datasets import cifar10\n",
        "import matplotlib.pyplot as plt\n",
        "import numpy\n",
        "from keras import models,layers\n",
        "from keras.utils import to_categorical\n",
        "from keras import optimizers"
      ],
      "execution_count": 1,
      "outputs": [
        {
          "output_type": "stream",
          "text": [
            "Using TensorFlow backend.\n"
          ],
          "name": "stderr"
        }
      ]
    },
    {
      "cell_type": "code",
      "metadata": {
        "colab_type": "code",
        "id": "R3PnsOiqy4Ep",
        "outputId": "9fabc1ac-687f-4ec9-dd9d-6abc6ba8cce4",
        "colab": {
          "base_uri": "https://localhost:8080/",
          "height": 51
        }
      },
      "source": [
        "# loading the dataset\n",
        "(xtrain, ytrain), (xtest, ytest) = cifar10.load_data()"
      ],
      "execution_count": 2,
      "outputs": [
        {
          "output_type": "stream",
          "text": [
            "Downloading data from https://www.cs.toronto.edu/~kriz/cifar-10-python.tar.gz\n",
            "170500096/170498071 [==============================] - 4s 0us/step\n"
          ],
          "name": "stdout"
        }
      ]
    },
    {
      "cell_type": "code",
      "metadata": {
        "colab_type": "code",
        "id": "gv5NWnEPy4FQ",
        "outputId": "83bbf220-3f04-421f-fc8c-66217adf65f7",
        "colab": {
          "base_uri": "https://localhost:8080/",
          "height": 86
        }
      },
      "source": [
        "print(xtrain.shape)\n",
        "print(xtest.shape)\n",
        "print(ytrain.shape)\n",
        "print(ytest.shape)"
      ],
      "execution_count": 3,
      "outputs": [
        {
          "output_type": "stream",
          "text": [
            "(50000, 32, 32, 3)\n",
            "(10000, 32, 32, 3)\n",
            "(50000, 1)\n",
            "(10000, 1)\n"
          ],
          "name": "stdout"
        }
      ]
    },
    {
      "cell_type": "code",
      "metadata": {
        "colab_type": "code",
        "id": "ixQwYgs3y4F_",
        "colab": {}
      },
      "source": [
        "labels=['airplane', 'automobile','bird', 'cat', 'deer', 'dog', 'frog', 'horse', 'ship', 'truck']"
      ],
      "execution_count": 0,
      "outputs": []
    },
    {
      "cell_type": "code",
      "metadata": {
        "colab_type": "code",
        "id": "mtn_1uyTy4GP",
        "outputId": "889d96fc-fff7-489c-db6b-06f63f59295c",
        "colab": {
          "base_uri": "https://localhost:8080/",
          "height": 286
        }
      },
      "source": [
        "#explore data\n",
        "print(ytrain[10])\n",
        "plt.imshow(xtrain[10])\n",
        "plt.show()"
      ],
      "execution_count": 5,
      "outputs": [
        {
          "output_type": "stream",
          "text": [
            "[4]\n"
          ],
          "name": "stdout"
        },
        {
          "output_type": "display_data",
          "data": {
            "image/png": "[encoded data removed]",
            "text/plain": [
              "<Figure size 432x288 with 1 Axes>"
            ]
          },
          "metadata": {
            "tags": []
          }
        }
      ]
    },
    {
      "cell_type": "code",
      "metadata": {
        "colab_type": "code",
        "id": "hz-Zx5SIy4HE",
        "colab": {}
      },
      "source": [
        "# conver the pixel values in float\n",
        "xtrain = xtrain.astype('float32')\n",
        "xtest = xtest.astype('float32')\n",
        "# scale the images\n",
        "xtrain /= 255  # ths is eqvalent to xtrain = xtrain/255 \n",
        "xtest /= 255"
      ],
      "execution_count": 0,
      "outputs": []
    },
    {
      "cell_type": "code",
      "metadata": {
        "colab_type": "code",
        "id": "rZhGxFxNy4Hm",
        "outputId": "fbb18662-f118-44c6-f9c1-bf4c76406789",
        "colab": {
          "base_uri": "https://localhost:8080/",
          "height": 51
        }
      },
      "source": [
        "# Convert class vectors to binary class matrices.\n",
        "ytrain = to_categorical(ytrain)\n",
        "ytest = to_categorical(ytest)\n",
        "print(ytrain.shape)\n",
        "print(ytest.shape)\n"
      ],
      "execution_count": 7,
      "outputs": [
        {
          "output_type": "stream",
          "text": [
            "(50000, 10)\n",
            "(10000, 10)\n"
          ],
          "name": "stdout"
        }
      ]
    },
    {
      "cell_type": "code",
      "metadata": {
        "id": "uD2GMDhNpPNv",
        "colab_type": "code",
        "outputId": "44f8566a-6fc8-4962-a2cf-0607fedf1056",
        "colab": {
          "base_uri": "https://localhost:8080/",
          "height": 860
        }
      },
      "source": [
        "print(xtrain[10])"
      ],
      "execution_count": 8,
      "outputs": [
        {
          "output_type": "stream",
          "text": [
            "[[[0.20784314 0.25490198 0.20784314]\n",
            "  [0.21176471 0.24705882 0.20392157]\n",
            "  [0.21960784 0.23529412 0.19607843]\n",
            "  ...\n",
            "  [0.18431373 0.2        0.19607843]\n",
            "  [0.16078432 0.1764706  0.17254902]\n",
            "  [0.09411765 0.10980392 0.10588235]]\n",
            "\n",
            " [[0.18039216 0.23137255 0.16078432]\n",
            "  [0.20784314 0.24313726 0.1764706 ]\n",
            "  [0.21176471 0.23137255 0.17254902]\n",
            "  ...\n",
            "  [0.16470589 0.18039216 0.1764706 ]\n",
            "  [0.15294118 0.16862746 0.16470589]\n",
            "  [0.10980392 0.1254902  0.12156863]]\n",
            "\n",
            " [[0.1764706  0.23137255 0.14901961]\n",
            "  [0.19607843 0.23529412 0.16078432]\n",
            "  [0.18039216 0.20392157 0.13333334]\n",
            "  ...\n",
            "  [0.14901961 0.16470589 0.16078432]\n",
            "  [0.14117648 0.15686275 0.15294118]\n",
            "  [0.11372549 0.12941177 0.1254902 ]]\n",
            "\n",
            " ...\n",
            "\n",
            " [[0.2784314  0.3254902  0.25882354]\n",
            "  [0.2901961  0.3254902  0.25882354]\n",
            "  [0.3137255  0.33333334 0.2627451 ]\n",
            "  ...\n",
            "  [0.2        0.21176471 0.12941177]\n",
            "  [0.18039216 0.19215687 0.13333334]\n",
            "  [0.19215687 0.19607843 0.16078432]]\n",
            "\n",
            " [[0.29411766 0.32156864 0.2627451 ]\n",
            "  [0.30980393 0.33333334 0.27058825]\n",
            "  [0.31764707 0.33333334 0.2627451 ]\n",
            "  ...\n",
            "  [0.23921569 0.25490198 0.16078432]\n",
            "  [0.2509804  0.2627451  0.1882353 ]\n",
            "  [0.1882353  0.19607843 0.16078432]]\n",
            "\n",
            " [[0.33333334 0.3254902  0.2784314 ]\n",
            "  [0.33333334 0.32941177 0.2784314 ]\n",
            "  [0.3372549  0.3372549  0.27450982]\n",
            "  ...\n",
            "  [0.23921569 0.25490198 0.15294118]\n",
            "  [0.2509804  0.2627451  0.18039216]\n",
            "  [0.19215687 0.19607843 0.16078432]]]\n"
          ],
          "name": "stdout"
        }
      ]
    },
    {
      "cell_type": "code",
      "metadata": {
        "id": "u0JDs9BdpgzM",
        "colab_type": "code",
        "outputId": "7f6c8ee3-011a-4c68-ffc5-00fcdf8a7491",
        "colab": {
          "base_uri": "https://localhost:8080/",
          "height": 34
        }
      },
      "source": [
        "ytrain[10]"
      ],
      "execution_count": 9,
      "outputs": [
        {
          "output_type": "execute_result",
          "data": {
            "text/plain": [
              "array([0., 0., 0., 0., 1., 0., 0., 0., 0., 0.], dtype=float32)"
            ]
          },
          "metadata": {
            "tags": []
          },
          "execution_count": 9
        }
      ]
    },
    {
      "cell_type": "code",
      "metadata": {
        "colab_type": "code",
        "id": "i3PGpIU7y4Hz",
        "outputId": "7b59d713-ea25-4a94-cdf8-2a89ba184d63",
        "colab": {
          "base_uri": "https://localhost:8080/",
          "height": 329
        }
      },
      "source": [
        "model = models.Sequential()\n",
        "model.add(layers.Conv2D(32, (3, 3), padding='same',\n",
        "                 input_shape=xtrain.shape[1:]))\n",
        "model.add(layers.Activation('relu'))\n",
        "model.add(layers.Conv2D(32, (3, 3)))\n",
        "model.add(layers.Activation('relu'))\n",
        "model.add(layers.MaxPooling2D(pool_size=(2, 2)))\n",
        "model.add(layers.Dropout(0.25))  # Drops 25% pixels, which are not important.\n",
        "\n",
        "model.add(layers.Conv2D(64, (3, 3), padding='same'))\n",
        "model.add(layers.Activation('relu'))\n",
        "model.add(layers.Conv2D(64, (3, 3)))\n",
        "model.add(layers.Activation('relu'))\n",
        "model.add(layers.MaxPooling2D(pool_size=(2, 2)))\n",
        "model.add(layers.Dropout(0.25))\n",
        "\n",
        "model.add(layers.Flatten())  # it converts a 2D image (eg. 12,12) into a 1D vector (1,144)\n",
        "model.add(layers.Dense(512)) # Adding a hidden layer with 512 neurons, fully connected layer\n",
        "model.add(layers.Activation('relu'))\n",
        "model.add(layers.Dropout(0.5))\n",
        "model.add(layers.Dense(10))  # this is the actual output layer\n",
        "model.add(layers.Activation('softmax')) \n",
        "\n",
        "# initiate RMSprop optimizer\n",
        "opt = optimizers.rmsprop(lr=0.0001, decay=1e-6)\n",
        "\n",
        "# Let's train the model using RMSprop\n",
        "model.compile(loss='categorical_crossentropy',\n",
        "              optimizer=opt,\n",
        "              metrics=['accuracy'])\n",
        "\n"
      ],
      "execution_count": 10,
      "outputs": [
        {
          "output_type": "stream",
          "text": [
            "WARNING:tensorflow:From /usr/local/lib/python3.6/dist-packages/keras/backend/tensorflow_backend.py:66: The name tf.get_default_graph is deprecated. Please use tf.compat.v1.get_default_graph instead.\n",
            "\n",
            "WARNING:tensorflow:From /usr/local/lib/python3.6/dist-packages/keras/backend/tensorflow_backend.py:541: The name tf.placeholder is deprecated. Please use tf.compat.v1.placeholder instead.\n",
            "\n",
            "WARNING:tensorflow:From /usr/local/lib/python3.6/dist-packages/keras/backend/tensorflow_backend.py:4432: The name tf.random_uniform is deprecated. Please use tf.random.uniform instead.\n",
            "\n",
            "WARNING:tensorflow:From /usr/local/lib/python3.6/dist-packages/keras/backend/tensorflow_backend.py:4267: The name tf.nn.max_pool is deprecated. Please use tf.nn.max_pool2d instead.\n",
            "\n",
            "WARNING:tensorflow:From /usr/local/lib/python3.6/dist-packages/keras/backend/tensorflow_backend.py:148: The name tf.placeholder_with_default is deprecated. Please use tf.compat.v1.placeholder_with_default instead.\n",
            "\n",
            "WARNING:tensorflow:From /usr/local/lib/python3.6/dist-packages/keras/backend/tensorflow_backend.py:3733: calling dropout (from tensorflow.python.ops.nn_ops) with keep_prob is deprecated and will be removed in a future version.\n",
            "Instructions for updating:\n",
            "Please use `rate` instead of `keep_prob`. Rate should be set to `rate = 1 - keep_prob`.\n",
            "WARNING:tensorflow:From /usr/local/lib/python3.6/dist-packages/keras/optimizers.py:793: The name tf.train.Optimizer is deprecated. Please use tf.compat.v1.train.Optimizer instead.\n",
            "\n",
            "WARNING:tensorflow:From /usr/local/lib/python3.6/dist-packages/keras/backend/tensorflow_backend.py:3576: The name tf.log is deprecated. Please use tf.math.log instead.\n",
            "\n"
          ],
          "name": "stdout"
        }
      ]
    },
    {
      "cell_type": "code",
      "metadata": {
        "colab_type": "code",
        "id": "uQkjg8bty4Ip",
        "outputId": "c3cad767-8e3d-4ce9-f7c1-2aa808f132f4",
        "colab": {
          "base_uri": "https://localhost:8080/",
          "height": 1000
        }
      },
      "source": [
        "model.fit(xtrain,ytrain,validation_split=0.1,verbose=True,epochs=100,batch_size=1000)"
      ],
      "execution_count": 0,
      "outputs": [
        {
          "output_type": "stream",
          "text": [
            "WARNING:tensorflow:From /usr/local/lib/python3.6/dist-packages/tensorflow/python/ops/math_grad.py:1250: add_dispatch_support.<locals>.wrapper (from tensorflow.python.ops.array_ops) is deprecated and will be removed in a future version.\n",
            "Instructions for updating:\n",
            "Use tf.where in 2.0, which has the same broadcast rule as np.where\n",
            "Train on 45000 samples, validate on 5000 samples\n",
            "Epoch 1/100\n",
            "45000/45000 [==============================] - 13s 299us/step - loss: 2.1888 - acc: 0.1809 - val_loss: 2.0424 - val_acc: 0.2802\n",
            "Epoch 2/100\n",
            "45000/45000 [==============================] - 6s 134us/step - loss: 2.0119 - acc: 0.2652 - val_loss: 1.9365 - val_acc: 0.3070\n",
            "Epoch 3/100\n",
            "45000/45000 [==============================] - 6s 134us/step - loss: 1.9028 - acc: 0.3146 - val_loss: 1.8294 - val_acc: 0.3556\n",
            "Epoch 4/100\n",
            "45000/45000 [==============================] - 6s 134us/step - loss: 1.8280 - acc: 0.3424 - val_loss: 1.7985 - val_acc: 0.3654\n",
            "Epoch 5/100\n",
            "45000/45000 [==============================] - 6s 134us/step - loss: 1.7748 - acc: 0.3659 - val_loss: 1.7169 - val_acc: 0.3914\n",
            "Epoch 6/100\n",
            "45000/45000 [==============================] - 6s 134us/step - loss: 1.7323 - acc: 0.3813 - val_loss: 1.6897 - val_acc: 0.4058\n",
            "Epoch 7/100\n",
            "45000/45000 [==============================] - 6s 133us/step - loss: 1.7016 - acc: 0.3914 - val_loss: 1.6620 - val_acc: 0.4128\n",
            "Epoch 8/100\n",
            "45000/45000 [==============================] - 6s 134us/step - loss: 1.6712 - acc: 0.4013 - val_loss: 1.6156 - val_acc: 0.4220\n",
            "Epoch 9/100\n",
            "45000/45000 [==============================] - 6s 133us/step - loss: 1.6434 - acc: 0.4133 - val_loss: 1.6079 - val_acc: 0.4320\n",
            "Epoch 10/100\n",
            "45000/45000 [==============================] - 6s 134us/step - loss: 1.6173 - acc: 0.4208 - val_loss: 1.5476 - val_acc: 0.4478\n",
            "Epoch 11/100\n",
            "45000/45000 [==============================] - 6s 134us/step - loss: 1.6022 - acc: 0.4253 - val_loss: 1.5419 - val_acc: 0.4522\n",
            "Epoch 12/100\n",
            "45000/45000 [==============================] - 6s 134us/step - loss: 1.5810 - acc: 0.4336 - val_loss: 1.5221 - val_acc: 0.4598\n",
            "Epoch 13/100\n",
            "45000/45000 [==============================] - 6s 134us/step - loss: 1.5588 - acc: 0.4436 - val_loss: 1.4804 - val_acc: 0.4706\n",
            "Epoch 14/100\n",
            "45000/45000 [==============================] - 6s 134us/step - loss: 1.5450 - acc: 0.4463 - val_loss: 1.4547 - val_acc: 0.4834\n",
            "Epoch 15/100\n",
            "45000/45000 [==============================] - 6s 134us/step - loss: 1.5209 - acc: 0.4559 - val_loss: 1.5122 - val_acc: 0.4656\n",
            "Epoch 16/100\n",
            "45000/45000 [==============================] - 6s 134us/step - loss: 1.5079 - acc: 0.4595 - val_loss: 1.4363 - val_acc: 0.4910\n",
            "Epoch 17/100\n",
            "45000/45000 [==============================] - 6s 135us/step - loss: 1.4918 - acc: 0.4673 - val_loss: 1.4158 - val_acc: 0.4990\n",
            "Epoch 18/100\n",
            "45000/45000 [==============================] - 6s 134us/step - loss: 1.4731 - acc: 0.4729 - val_loss: 1.4105 - val_acc: 0.5038\n",
            "Epoch 19/100\n",
            "45000/45000 [==============================] - 6s 134us/step - loss: 1.4606 - acc: 0.4792 - val_loss: 1.3755 - val_acc: 0.5104\n",
            "Epoch 20/100\n",
            "45000/45000 [==============================] - 6s 135us/step - loss: 1.4462 - acc: 0.4829 - val_loss: 1.3806 - val_acc: 0.5124\n",
            "Epoch 21/100\n",
            "45000/45000 [==============================] - 6s 134us/step - loss: 1.4337 - acc: 0.4889 - val_loss: 1.3727 - val_acc: 0.5118\n",
            "Epoch 22/100\n",
            "45000/45000 [==============================] - 6s 134us/step - loss: 1.4204 - acc: 0.4916 - val_loss: 1.3601 - val_acc: 0.5242\n",
            "Epoch 23/100\n",
            "45000/45000 [==============================] - 6s 135us/step - loss: 1.4112 - acc: 0.4958 - val_loss: 1.3337 - val_acc: 0.5306\n",
            "Epoch 24/100\n",
            "45000/45000 [==============================] - 6s 135us/step - loss: 1.3985 - acc: 0.5040 - val_loss: 1.3519 - val_acc: 0.5234\n",
            "Epoch 25/100\n",
            "45000/45000 [==============================] - 6s 134us/step - loss: 1.3876 - acc: 0.5067 - val_loss: 1.3136 - val_acc: 0.5374\n",
            "Epoch 26/100\n",
            "45000/45000 [==============================] - 6s 135us/step - loss: 1.3759 - acc: 0.5105 - val_loss: 1.2834 - val_acc: 0.5542\n",
            "Epoch 27/100\n",
            "24000/45000 [===============>..............] - ETA: 2s - loss: 1.3613 - acc: 0.5178"
          ],
          "name": "stdout"
        }
      ]
    },
    {
      "cell_type": "code",
      "metadata": {
        "colab_type": "code",
        "id": "03Ie9M5Ky4JS",
        "outputId": "7062592f-d63e-4df2-d582-efb05082c64b",
        "colab": {
          "base_uri": "https://localhost:8080/",
          "height": 70
        }
      },
      "source": [
        "# check performance on test\n",
        "scores = model.evaluate(xtest, ytest, verbose=1) \n",
        "print('Test loss:', scores[0])\n",
        "print('Test accuracy:', scores[1])"
      ],
      "execution_count": 0,
      "outputs": [
        {
          "output_type": "stream",
          "text": [
            "10000/10000 [==============================] - 1s 144us/step\n",
            "Test loss: 0.8888397757530212\n",
            "Test accuracy: 0.6919\n"
          ],
          "name": "stdout"
        }
      ]
    },
    {
      "cell_type": "code",
      "metadata": {
        "colab_type": "code",
        "id": "-qJQmdpjy4Jv",
        "colab": {}
      },
      "source": [
        ""
      ],
      "execution_count": 0,
      "outputs": []
    },
    {
      "cell_type": "markdown",
      "metadata": {
        "id": "072onwh75dkX",
        "colab_type": "text"
      },
      "source": [
        "So the model's final accuracy on the TEST data is 69%"
      ]
    },
    {
      "cell_type": "code",
      "metadata": {
        "id": "6HTAD2_t5i_3",
        "colab_type": "code",
        "colab": {}
      },
      "source": [
        ""
      ],
      "execution_count": 0,
      "outputs": []
    }
  ]
}